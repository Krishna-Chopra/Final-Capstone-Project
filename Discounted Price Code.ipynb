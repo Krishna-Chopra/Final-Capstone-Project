{
 "cells": [
  {
   "cell_type": "code",
   "execution_count": 1,
   "id": "91ae98e1",
   "metadata": {},
   "outputs": [],
   "source": [
    "import numpy as np\n",
    "import pandas as pd\n",
    "import matplotlib.pyplot as plt"
   ]
  },
  {
   "cell_type": "code",
   "execution_count": 2,
   "id": "21d077bc",
   "metadata": {},
   "outputs": [],
   "source": [
    "df= pd.read_csv(\"train.csv\")"
   ]
  },
  {
   "cell_type": "code",
   "execution_count": 3,
   "id": "a0ce4e92",
   "metadata": {},
   "outputs": [
    {
     "data": {
      "text/html": [
       "<div>\n",
       "<style scoped>\n",
       "    .dataframe tbody tr th:only-of-type {\n",
       "        vertical-align: middle;\n",
       "    }\n",
       "\n",
       "    .dataframe tbody tr th {\n",
       "        vertical-align: top;\n",
       "    }\n",
       "\n",
       "    .dataframe thead th {\n",
       "        text-align: right;\n",
       "    }\n",
       "</style>\n",
       "<table border=\"1\" class=\"dataframe\">\n",
       "  <thead>\n",
       "    <tr style=\"text-align: right;\">\n",
       "      <th></th>\n",
       "      <th>id</th>\n",
       "      <th>title</th>\n",
       "      <th>Rating</th>\n",
       "      <th>maincateg</th>\n",
       "      <th>platform</th>\n",
       "      <th>price1</th>\n",
       "      <th>actprice1</th>\n",
       "      <th>Offer %</th>\n",
       "      <th>norating1</th>\n",
       "      <th>noreviews1</th>\n",
       "      <th>star_5f</th>\n",
       "      <th>star_4f</th>\n",
       "      <th>star_3f</th>\n",
       "      <th>star_2f</th>\n",
       "      <th>star_1f</th>\n",
       "      <th>fulfilled1</th>\n",
       "    </tr>\n",
       "  </thead>\n",
       "  <tbody>\n",
       "    <tr>\n",
       "      <th>0</th>\n",
       "      <td>16695</td>\n",
       "      <td>Fashionable &amp; Comfortable Bellies For Women  (...</td>\n",
       "      <td>3.9</td>\n",
       "      <td>Women</td>\n",
       "      <td>Flipkart</td>\n",
       "      <td>698</td>\n",
       "      <td>999</td>\n",
       "      <td>30.13%</td>\n",
       "      <td>38.0</td>\n",
       "      <td>7.0</td>\n",
       "      <td>17.0</td>\n",
       "      <td>9.0</td>\n",
       "      <td>6.0</td>\n",
       "      <td>3</td>\n",
       "      <td>3</td>\n",
       "      <td>0</td>\n",
       "    </tr>\n",
       "    <tr>\n",
       "      <th>1</th>\n",
       "      <td>5120</td>\n",
       "      <td>Combo Pack of 4 Casual Shoes Sneakers For Men ...</td>\n",
       "      <td>3.8</td>\n",
       "      <td>Men</td>\n",
       "      <td>Flipkart</td>\n",
       "      <td>999</td>\n",
       "      <td>1999</td>\n",
       "      <td>50.03%</td>\n",
       "      <td>531.0</td>\n",
       "      <td>69.0</td>\n",
       "      <td>264.0</td>\n",
       "      <td>92.0</td>\n",
       "      <td>73.0</td>\n",
       "      <td>29</td>\n",
       "      <td>73</td>\n",
       "      <td>1</td>\n",
       "    </tr>\n",
       "    <tr>\n",
       "      <th>2</th>\n",
       "      <td>18391</td>\n",
       "      <td>Cilia Mode Leo Sneakers For Women  (White)</td>\n",
       "      <td>4.4</td>\n",
       "      <td>Women</td>\n",
       "      <td>Flipkart</td>\n",
       "      <td>2749</td>\n",
       "      <td>4999</td>\n",
       "      <td>45.01%</td>\n",
       "      <td>17.0</td>\n",
       "      <td>4.0</td>\n",
       "      <td>11.0</td>\n",
       "      <td>3.0</td>\n",
       "      <td>2.0</td>\n",
       "      <td>1</td>\n",
       "      <td>0</td>\n",
       "      <td>1</td>\n",
       "    </tr>\n",
       "    <tr>\n",
       "      <th>3</th>\n",
       "      <td>495</td>\n",
       "      <td>Men Black Sports Sandal</td>\n",
       "      <td>4.2</td>\n",
       "      <td>Men</td>\n",
       "      <td>Flipkart</td>\n",
       "      <td>518</td>\n",
       "      <td>724</td>\n",
       "      <td>15.85%</td>\n",
       "      <td>46413.0</td>\n",
       "      <td>6229.0</td>\n",
       "      <td>1045.0</td>\n",
       "      <td>12416.0</td>\n",
       "      <td>5352.0</td>\n",
       "      <td>701</td>\n",
       "      <td>4595</td>\n",
       "      <td>1</td>\n",
       "    </tr>\n",
       "    <tr>\n",
       "      <th>4</th>\n",
       "      <td>16408</td>\n",
       "      <td>Men Green Sports Sandal</td>\n",
       "      <td>3.9</td>\n",
       "      <td>Men</td>\n",
       "      <td>Flipkart</td>\n",
       "      <td>1379</td>\n",
       "      <td>2299</td>\n",
       "      <td>40.02%</td>\n",
       "      <td>77.0</td>\n",
       "      <td>3.0</td>\n",
       "      <td>35.0</td>\n",
       "      <td>21.0</td>\n",
       "      <td>7.0</td>\n",
       "      <td>7</td>\n",
       "      <td>7</td>\n",
       "      <td>1</td>\n",
       "    </tr>\n",
       "  </tbody>\n",
       "</table>\n",
       "</div>"
      ],
      "text/plain": [
       "      id                                              title  Rating maincateg  \\\n",
       "0  16695  Fashionable & Comfortable Bellies For Women  (...     3.9     Women   \n",
       "1   5120  Combo Pack of 4 Casual Shoes Sneakers For Men ...     3.8       Men   \n",
       "2  18391         Cilia Mode Leo Sneakers For Women  (White)     4.4     Women   \n",
       "3    495                            Men Black Sports Sandal     4.2       Men   \n",
       "4  16408                            Men Green Sports Sandal     3.9       Men   \n",
       "\n",
       "   platform  price1  actprice1 Offer %  norating1  noreviews1  star_5f  \\\n",
       "0  Flipkart     698        999  30.13%       38.0         7.0     17.0   \n",
       "1  Flipkart     999       1999  50.03%      531.0        69.0    264.0   \n",
       "2  Flipkart    2749       4999  45.01%       17.0         4.0     11.0   \n",
       "3  Flipkart     518        724  15.85%    46413.0      6229.0   1045.0   \n",
       "4  Flipkart    1379       2299  40.02%       77.0         3.0     35.0   \n",
       "\n",
       "   star_4f  star_3f  star_2f  star_1f  fulfilled1  \n",
       "0      9.0      6.0        3        3           0  \n",
       "1     92.0     73.0       29       73           1  \n",
       "2      3.0      2.0        1        0           1  \n",
       "3  12416.0   5352.0      701     4595           1  \n",
       "4     21.0      7.0        7        7           1  "
      ]
     },
     "execution_count": 3,
     "metadata": {},
     "output_type": "execute_result"
    }
   ],
   "source": [
    "df.head()"
   ]
  },
  {
   "cell_type": "code",
   "execution_count": 4,
   "id": "796a349f",
   "metadata": {},
   "outputs": [
    {
     "data": {
      "text/html": [
       "<div>\n",
       "<style scoped>\n",
       "    .dataframe tbody tr th:only-of-type {\n",
       "        vertical-align: middle;\n",
       "    }\n",
       "\n",
       "    .dataframe tbody tr th {\n",
       "        vertical-align: top;\n",
       "    }\n",
       "\n",
       "    .dataframe thead th {\n",
       "        text-align: right;\n",
       "    }\n",
       "</style>\n",
       "<table border=\"1\" class=\"dataframe\">\n",
       "  <thead>\n",
       "    <tr style=\"text-align: right;\">\n",
       "      <th></th>\n",
       "      <th>id</th>\n",
       "      <th>title</th>\n",
       "      <th>Rating</th>\n",
       "      <th>maincateg</th>\n",
       "      <th>platform</th>\n",
       "      <th>price1</th>\n",
       "      <th>actprice1</th>\n",
       "      <th>Offer %</th>\n",
       "      <th>norating1</th>\n",
       "      <th>noreviews1</th>\n",
       "      <th>star_5f</th>\n",
       "      <th>star_4f</th>\n",
       "      <th>star_3f</th>\n",
       "      <th>star_2f</th>\n",
       "      <th>star_1f</th>\n",
       "      <th>fulfilled1</th>\n",
       "    </tr>\n",
       "  </thead>\n",
       "  <tbody>\n",
       "    <tr>\n",
       "      <th>0</th>\n",
       "      <td>16695</td>\n",
       "      <td>Fashionable &amp; Comfortable Bellies For Women  (...</td>\n",
       "      <td>3.9</td>\n",
       "      <td>Women</td>\n",
       "      <td>Flipkart</td>\n",
       "      <td>698</td>\n",
       "      <td>999</td>\n",
       "      <td>30.13%</td>\n",
       "      <td>38.0</td>\n",
       "      <td>7.0</td>\n",
       "      <td>17.0</td>\n",
       "      <td>9.0</td>\n",
       "      <td>6.0</td>\n",
       "      <td>3</td>\n",
       "      <td>3</td>\n",
       "      <td>0</td>\n",
       "    </tr>\n",
       "    <tr>\n",
       "      <th>1</th>\n",
       "      <td>5120</td>\n",
       "      <td>Combo Pack of 4 Casual Shoes Sneakers For Men ...</td>\n",
       "      <td>3.8</td>\n",
       "      <td>Men</td>\n",
       "      <td>Flipkart</td>\n",
       "      <td>999</td>\n",
       "      <td>1999</td>\n",
       "      <td>50.03%</td>\n",
       "      <td>531.0</td>\n",
       "      <td>69.0</td>\n",
       "      <td>264.0</td>\n",
       "      <td>92.0</td>\n",
       "      <td>73.0</td>\n",
       "      <td>29</td>\n",
       "      <td>73</td>\n",
       "      <td>1</td>\n",
       "    </tr>\n",
       "    <tr>\n",
       "      <th>2</th>\n",
       "      <td>18391</td>\n",
       "      <td>Cilia Mode Leo Sneakers For Women  (White)</td>\n",
       "      <td>4.4</td>\n",
       "      <td>Women</td>\n",
       "      <td>Flipkart</td>\n",
       "      <td>2749</td>\n",
       "      <td>4999</td>\n",
       "      <td>45.01%</td>\n",
       "      <td>17.0</td>\n",
       "      <td>4.0</td>\n",
       "      <td>11.0</td>\n",
       "      <td>3.0</td>\n",
       "      <td>2.0</td>\n",
       "      <td>1</td>\n",
       "      <td>0</td>\n",
       "      <td>1</td>\n",
       "    </tr>\n",
       "    <tr>\n",
       "      <th>3</th>\n",
       "      <td>495</td>\n",
       "      <td>Men Black Sports Sandal</td>\n",
       "      <td>4.2</td>\n",
       "      <td>Men</td>\n",
       "      <td>Flipkart</td>\n",
       "      <td>518</td>\n",
       "      <td>724</td>\n",
       "      <td>15.85%</td>\n",
       "      <td>46413.0</td>\n",
       "      <td>6229.0</td>\n",
       "      <td>1045.0</td>\n",
       "      <td>12416.0</td>\n",
       "      <td>5352.0</td>\n",
       "      <td>701</td>\n",
       "      <td>4595</td>\n",
       "      <td>1</td>\n",
       "    </tr>\n",
       "    <tr>\n",
       "      <th>4</th>\n",
       "      <td>16408</td>\n",
       "      <td>Men Green Sports Sandal</td>\n",
       "      <td>3.9</td>\n",
       "      <td>Men</td>\n",
       "      <td>Flipkart</td>\n",
       "      <td>1379</td>\n",
       "      <td>2299</td>\n",
       "      <td>40.02%</td>\n",
       "      <td>77.0</td>\n",
       "      <td>3.0</td>\n",
       "      <td>35.0</td>\n",
       "      <td>21.0</td>\n",
       "      <td>7.0</td>\n",
       "      <td>7</td>\n",
       "      <td>7</td>\n",
       "      <td>1</td>\n",
       "    </tr>\n",
       "  </tbody>\n",
       "</table>\n",
       "</div>"
      ],
      "text/plain": [
       "      id                                              title  Rating maincateg  \\\n",
       "0  16695  Fashionable & Comfortable Bellies For Women  (...     3.9     Women   \n",
       "1   5120  Combo Pack of 4 Casual Shoes Sneakers For Men ...     3.8       Men   \n",
       "2  18391         Cilia Mode Leo Sneakers For Women  (White)     4.4     Women   \n",
       "3    495                            Men Black Sports Sandal     4.2       Men   \n",
       "4  16408                            Men Green Sports Sandal     3.9       Men   \n",
       "\n",
       "   platform  price1  actprice1 Offer %  norating1  noreviews1  star_5f  \\\n",
       "0  Flipkart     698        999  30.13%       38.0         7.0     17.0   \n",
       "1  Flipkart     999       1999  50.03%      531.0        69.0    264.0   \n",
       "2  Flipkart    2749       4999  45.01%       17.0         4.0     11.0   \n",
       "3  Flipkart     518        724  15.85%    46413.0      6229.0   1045.0   \n",
       "4  Flipkart    1379       2299  40.02%       77.0         3.0     35.0   \n",
       "\n",
       "   star_4f  star_3f  star_2f  star_1f  fulfilled1  \n",
       "0      9.0      6.0        3        3           0  \n",
       "1     92.0     73.0       29       73           1  \n",
       "2      3.0      2.0        1        0           1  \n",
       "3  12416.0   5352.0      701     4595           1  \n",
       "4     21.0      7.0        7        7           1  "
      ]
     },
     "execution_count": 4,
     "metadata": {},
     "output_type": "execute_result"
    }
   ],
   "source": [
    "#df.drop(['title','id'],axis=1, inplace=True)\n",
    "df.head()"
   ]
  },
  {
   "cell_type": "code",
   "execution_count": 5,
   "id": "436c0e01",
   "metadata": {},
   "outputs": [
    {
     "data": {
      "text/plain": [
       "(15730, 16)"
      ]
     },
     "execution_count": 5,
     "metadata": {},
     "output_type": "execute_result"
    }
   ],
   "source": [
    "df.shape"
   ]
  },
  {
   "cell_type": "code",
   "execution_count": 6,
   "id": "cd65aee4",
   "metadata": {},
   "outputs": [],
   "source": [
    "x=df.iloc[:,[2,3,4,5,6,7,8,9,10,11,12,13,14,15]]"
   ]
  },
  {
   "cell_type": "code",
   "execution_count": 7,
   "id": "4bdf0a2b",
   "metadata": {},
   "outputs": [
    {
     "data": {
      "text/html": [
       "<div>\n",
       "<style scoped>\n",
       "    .dataframe tbody tr th:only-of-type {\n",
       "        vertical-align: middle;\n",
       "    }\n",
       "\n",
       "    .dataframe tbody tr th {\n",
       "        vertical-align: top;\n",
       "    }\n",
       "\n",
       "    .dataframe thead th {\n",
       "        text-align: right;\n",
       "    }\n",
       "</style>\n",
       "<table border=\"1\" class=\"dataframe\">\n",
       "  <thead>\n",
       "    <tr style=\"text-align: right;\">\n",
       "      <th></th>\n",
       "      <th>Rating</th>\n",
       "      <th>maincateg</th>\n",
       "      <th>platform</th>\n",
       "      <th>price1</th>\n",
       "      <th>actprice1</th>\n",
       "      <th>Offer %</th>\n",
       "      <th>norating1</th>\n",
       "      <th>noreviews1</th>\n",
       "      <th>star_5f</th>\n",
       "      <th>star_4f</th>\n",
       "      <th>star_3f</th>\n",
       "      <th>star_2f</th>\n",
       "      <th>star_1f</th>\n",
       "      <th>fulfilled1</th>\n",
       "    </tr>\n",
       "  </thead>\n",
       "  <tbody>\n",
       "    <tr>\n",
       "      <th>0</th>\n",
       "      <td>3.9</td>\n",
       "      <td>Women</td>\n",
       "      <td>Flipkart</td>\n",
       "      <td>698</td>\n",
       "      <td>999</td>\n",
       "      <td>30.13%</td>\n",
       "      <td>38.0</td>\n",
       "      <td>7.0</td>\n",
       "      <td>17.0</td>\n",
       "      <td>9.0</td>\n",
       "      <td>6.0</td>\n",
       "      <td>3</td>\n",
       "      <td>3</td>\n",
       "      <td>0</td>\n",
       "    </tr>\n",
       "    <tr>\n",
       "      <th>1</th>\n",
       "      <td>3.8</td>\n",
       "      <td>Men</td>\n",
       "      <td>Flipkart</td>\n",
       "      <td>999</td>\n",
       "      <td>1999</td>\n",
       "      <td>50.03%</td>\n",
       "      <td>531.0</td>\n",
       "      <td>69.0</td>\n",
       "      <td>264.0</td>\n",
       "      <td>92.0</td>\n",
       "      <td>73.0</td>\n",
       "      <td>29</td>\n",
       "      <td>73</td>\n",
       "      <td>1</td>\n",
       "    </tr>\n",
       "    <tr>\n",
       "      <th>2</th>\n",
       "      <td>4.4</td>\n",
       "      <td>Women</td>\n",
       "      <td>Flipkart</td>\n",
       "      <td>2749</td>\n",
       "      <td>4999</td>\n",
       "      <td>45.01%</td>\n",
       "      <td>17.0</td>\n",
       "      <td>4.0</td>\n",
       "      <td>11.0</td>\n",
       "      <td>3.0</td>\n",
       "      <td>2.0</td>\n",
       "      <td>1</td>\n",
       "      <td>0</td>\n",
       "      <td>1</td>\n",
       "    </tr>\n",
       "    <tr>\n",
       "      <th>3</th>\n",
       "      <td>4.2</td>\n",
       "      <td>Men</td>\n",
       "      <td>Flipkart</td>\n",
       "      <td>518</td>\n",
       "      <td>724</td>\n",
       "      <td>15.85%</td>\n",
       "      <td>46413.0</td>\n",
       "      <td>6229.0</td>\n",
       "      <td>1045.0</td>\n",
       "      <td>12416.0</td>\n",
       "      <td>5352.0</td>\n",
       "      <td>701</td>\n",
       "      <td>4595</td>\n",
       "      <td>1</td>\n",
       "    </tr>\n",
       "    <tr>\n",
       "      <th>4</th>\n",
       "      <td>3.9</td>\n",
       "      <td>Men</td>\n",
       "      <td>Flipkart</td>\n",
       "      <td>1379</td>\n",
       "      <td>2299</td>\n",
       "      <td>40.02%</td>\n",
       "      <td>77.0</td>\n",
       "      <td>3.0</td>\n",
       "      <td>35.0</td>\n",
       "      <td>21.0</td>\n",
       "      <td>7.0</td>\n",
       "      <td>7</td>\n",
       "      <td>7</td>\n",
       "      <td>1</td>\n",
       "    </tr>\n",
       "  </tbody>\n",
       "</table>\n",
       "</div>"
      ],
      "text/plain": [
       "   Rating maincateg  platform  price1  actprice1 Offer %  norating1  \\\n",
       "0     3.9     Women  Flipkart     698        999  30.13%       38.0   \n",
       "1     3.8       Men  Flipkart     999       1999  50.03%      531.0   \n",
       "2     4.4     Women  Flipkart    2749       4999  45.01%       17.0   \n",
       "3     4.2       Men  Flipkart     518        724  15.85%    46413.0   \n",
       "4     3.9       Men  Flipkart    1379       2299  40.02%       77.0   \n",
       "\n",
       "   noreviews1  star_5f  star_4f  star_3f  star_2f  star_1f  fulfilled1  \n",
       "0         7.0     17.0      9.0      6.0        3        3           0  \n",
       "1        69.0    264.0     92.0     73.0       29       73           1  \n",
       "2         4.0     11.0      3.0      2.0        1        0           1  \n",
       "3      6229.0   1045.0  12416.0   5352.0      701     4595           1  \n",
       "4         3.0     35.0     21.0      7.0        7        7           1  "
      ]
     },
     "execution_count": 7,
     "metadata": {},
     "output_type": "execute_result"
    }
   ],
   "source": [
    "x.head()"
   ]
  },
  {
   "cell_type": "code",
   "execution_count": 8,
   "id": "eb749251",
   "metadata": {},
   "outputs": [],
   "source": [
    "y=df.price1"
   ]
  },
  {
   "cell_type": "code",
   "execution_count": 9,
   "id": "5096e5e9",
   "metadata": {},
   "outputs": [
    {
     "data": {
      "text/html": [
       "<div>\n",
       "<style scoped>\n",
       "    .dataframe tbody tr th:only-of-type {\n",
       "        vertical-align: middle;\n",
       "    }\n",
       "\n",
       "    .dataframe tbody tr th {\n",
       "        vertical-align: top;\n",
       "    }\n",
       "\n",
       "    .dataframe thead th {\n",
       "        text-align: right;\n",
       "    }\n",
       "</style>\n",
       "<table border=\"1\" class=\"dataframe\">\n",
       "  <thead>\n",
       "    <tr style=\"text-align: right;\">\n",
       "      <th></th>\n",
       "      <th>Rating</th>\n",
       "      <th>price1</th>\n",
       "      <th>actprice1</th>\n",
       "      <th>norating1</th>\n",
       "      <th>noreviews1</th>\n",
       "      <th>star_5f</th>\n",
       "      <th>star_4f</th>\n",
       "      <th>star_3f</th>\n",
       "      <th>star_2f</th>\n",
       "      <th>star_1f</th>\n",
       "      <th>fulfilled1</th>\n",
       "    </tr>\n",
       "  </thead>\n",
       "  <tbody>\n",
       "    <tr>\n",
       "      <th>count</th>\n",
       "      <td>15730.000000</td>\n",
       "      <td>15730.000000</td>\n",
       "      <td>15730.000000</td>\n",
       "      <td>15052.000000</td>\n",
       "      <td>15152.000000</td>\n",
       "      <td>15142.000000</td>\n",
       "      <td>15191.000000</td>\n",
       "      <td>15499.000000</td>\n",
       "      <td>15730.000000</td>\n",
       "      <td>15730.000000</td>\n",
       "      <td>15730.000000</td>\n",
       "    </tr>\n",
       "    <tr>\n",
       "      <th>mean</th>\n",
       "      <td>4.012873</td>\n",
       "      <td>688.070693</td>\n",
       "      <td>1369.286777</td>\n",
       "      <td>3057.660776</td>\n",
       "      <td>423.976307</td>\n",
       "      <td>1585.239466</td>\n",
       "      <td>655.923310</td>\n",
       "      <td>357.260662</td>\n",
       "      <td>155.085188</td>\n",
       "      <td>275.500572</td>\n",
       "      <td>0.601526</td>\n",
       "    </tr>\n",
       "    <tr>\n",
       "      <th>std</th>\n",
       "      <td>0.298440</td>\n",
       "      <td>649.409586</td>\n",
       "      <td>1240.900227</td>\n",
       "      <td>11846.965689</td>\n",
       "      <td>1768.230384</td>\n",
       "      <td>6177.476241</td>\n",
       "      <td>2855.735531</td>\n",
       "      <td>1402.246610</td>\n",
       "      <td>558.650254</td>\n",
       "      <td>958.589075</td>\n",
       "      <td>0.489600</td>\n",
       "    </tr>\n",
       "    <tr>\n",
       "      <th>min</th>\n",
       "      <td>0.000000</td>\n",
       "      <td>69.000000</td>\n",
       "      <td>42.000000</td>\n",
       "      <td>1.000000</td>\n",
       "      <td>0.000000</td>\n",
       "      <td>0.000000</td>\n",
       "      <td>0.000000</td>\n",
       "      <td>0.000000</td>\n",
       "      <td>0.000000</td>\n",
       "      <td>0.000000</td>\n",
       "      <td>0.000000</td>\n",
       "    </tr>\n",
       "    <tr>\n",
       "      <th>25%</th>\n",
       "      <td>3.900000</td>\n",
       "      <td>349.000000</td>\n",
       "      <td>699.000000</td>\n",
       "      <td>63.000000</td>\n",
       "      <td>9.000000</td>\n",
       "      <td>30.000000</td>\n",
       "      <td>12.000000</td>\n",
       "      <td>7.000000</td>\n",
       "      <td>3.000000</td>\n",
       "      <td>6.000000</td>\n",
       "      <td>0.000000</td>\n",
       "    </tr>\n",
       "    <tr>\n",
       "      <th>50%</th>\n",
       "      <td>4.000000</td>\n",
       "      <td>474.000000</td>\n",
       "      <td>999.000000</td>\n",
       "      <td>308.000000</td>\n",
       "      <td>44.000000</td>\n",
       "      <td>150.000000</td>\n",
       "      <td>60.000000</td>\n",
       "      <td>34.000000</td>\n",
       "      <td>17.000000</td>\n",
       "      <td>30.000000</td>\n",
       "      <td>1.000000</td>\n",
       "    </tr>\n",
       "    <tr>\n",
       "      <th>75%</th>\n",
       "      <td>4.200000</td>\n",
       "      <td>699.000000</td>\n",
       "      <td>1299.000000</td>\n",
       "      <td>1526.000000</td>\n",
       "      <td>215.000000</td>\n",
       "      <td>788.000000</td>\n",
       "      <td>300.000000</td>\n",
       "      <td>172.000000</td>\n",
       "      <td>77.000000</td>\n",
       "      <td>140.000000</td>\n",
       "      <td>1.000000</td>\n",
       "    </tr>\n",
       "    <tr>\n",
       "      <th>max</th>\n",
       "      <td>5.000000</td>\n",
       "      <td>5998.000000</td>\n",
       "      <td>13499.000000</td>\n",
       "      <td>289973.000000</td>\n",
       "      <td>45448.000000</td>\n",
       "      <td>151193.000000</td>\n",
       "      <td>74037.000000</td>\n",
       "      <td>34978.000000</td>\n",
       "      <td>11705.000000</td>\n",
       "      <td>18060.000000</td>\n",
       "      <td>1.000000</td>\n",
       "    </tr>\n",
       "  </tbody>\n",
       "</table>\n",
       "</div>"
      ],
      "text/plain": [
       "             Rating        price1     actprice1      norating1    noreviews1  \\\n",
       "count  15730.000000  15730.000000  15730.000000   15052.000000  15152.000000   \n",
       "mean       4.012873    688.070693   1369.286777    3057.660776    423.976307   \n",
       "std        0.298440    649.409586   1240.900227   11846.965689   1768.230384   \n",
       "min        0.000000     69.000000     42.000000       1.000000      0.000000   \n",
       "25%        3.900000    349.000000    699.000000      63.000000      9.000000   \n",
       "50%        4.000000    474.000000    999.000000     308.000000     44.000000   \n",
       "75%        4.200000    699.000000   1299.000000    1526.000000    215.000000   \n",
       "max        5.000000   5998.000000  13499.000000  289973.000000  45448.000000   \n",
       "\n",
       "             star_5f       star_4f       star_3f       star_2f       star_1f  \\\n",
       "count   15142.000000  15191.000000  15499.000000  15730.000000  15730.000000   \n",
       "mean     1585.239466    655.923310    357.260662    155.085188    275.500572   \n",
       "std      6177.476241   2855.735531   1402.246610    558.650254    958.589075   \n",
       "min         0.000000      0.000000      0.000000      0.000000      0.000000   \n",
       "25%        30.000000     12.000000      7.000000      3.000000      6.000000   \n",
       "50%       150.000000     60.000000     34.000000     17.000000     30.000000   \n",
       "75%       788.000000    300.000000    172.000000     77.000000    140.000000   \n",
       "max    151193.000000  74037.000000  34978.000000  11705.000000  18060.000000   \n",
       "\n",
       "         fulfilled1  \n",
       "count  15730.000000  \n",
       "mean       0.601526  \n",
       "std        0.489600  \n",
       "min        0.000000  \n",
       "25%        0.000000  \n",
       "50%        1.000000  \n",
       "75%        1.000000  \n",
       "max        1.000000  "
      ]
     },
     "execution_count": 9,
     "metadata": {},
     "output_type": "execute_result"
    }
   ],
   "source": [
    "x.describe()"
   ]
  },
  {
   "cell_type": "code",
   "execution_count": 126,
   "id": "2c054c84",
   "metadata": {},
   "outputs": [],
   "source": [
    "#outlier analysis"
   ]
  },
  {
   "cell_type": "code",
   "execution_count": 10,
   "id": "1913f84e",
   "metadata": {},
   "outputs": [],
   "source": [
    "import seaborn as sns"
   ]
  },
  {
   "cell_type": "code",
   "execution_count": 11,
   "id": "0c88cc48",
   "metadata": {},
   "outputs": [
    {
     "name": "stderr",
     "output_type": "stream",
     "text": [
      "C:\\Users\\hp\\anaconda3\\lib\\site-packages\\seaborn\\_decorators.py:36: FutureWarning: Pass the following variable as a keyword arg: x. From version 0.12, the only valid positional argument will be `data`, and passing other arguments without an explicit keyword will result in an error or misinterpretation.\n",
      "  warnings.warn(\n"
     ]
    },
    {
     "data": {
      "text/plain": [
       "<AxesSubplot:xlabel='noreviews1'>"
      ]
     },
     "execution_count": 11,
     "metadata": {},
     "output_type": "execute_result"
    },
    {
     "data": {
      "image/png": "[encoded data removed]",
      "text/plain": [
       "<Figure size 432x288 with 1 Axes>"
      ]
     },
     "metadata": {
      "needs_background": "light"
     },
     "output_type": "display_data"
    }
   ],
   "source": [
    "sns.boxplot(df['noreviews1'])"
   ]
  },
  {
   "cell_type": "code",
   "execution_count": 12,
   "id": "7190b9fa",
   "metadata": {},
   "outputs": [
    {
     "name": "stderr",
     "output_type": "stream",
     "text": [
      "C:\\Users\\hp\\anaconda3\\lib\\site-packages\\seaborn\\_decorators.py:36: FutureWarning: Pass the following variable as a keyword arg: x. From version 0.12, the only valid positional argument will be `data`, and passing other arguments without an explicit keyword will result in an error or misinterpretation.\n",
      "  warnings.warn(\n"
     ]
    },
    {
     "data": {
      "text/plain": [
       "<AxesSubplot:xlabel='actprice1'>"
      ]
     },
     "execution_count": 12,
     "metadata": {},
     "output_type": "execute_result"
    },
    {
     "data": {
      "image/png": "[encoded data removed]",
      "text/plain": [
       "<Figure size 432x288 with 1 Axes>"
      ]
     },
     "metadata": {
      "needs_background": "light"
     },
     "output_type": "display_data"
    }
   ],
   "source": [
    "sns.boxplot(df['actprice1'])"
   ]
  },
  {
   "cell_type": "code",
   "execution_count": 13,
   "id": "52fc0233",
   "metadata": {},
   "outputs": [
    {
     "name": "stderr",
     "output_type": "stream",
     "text": [
      "C:\\Users\\hp\\anaconda3\\lib\\site-packages\\seaborn\\_decorators.py:36: FutureWarning: Pass the following variable as a keyword arg: x. From version 0.12, the only valid positional argument will be `data`, and passing other arguments without an explicit keyword will result in an error or misinterpretation.\n",
      "  warnings.warn(\n"
     ]
    },
    {
     "data": {
      "text/plain": [
       "<AxesSubplot:xlabel='norating1'>"
      ]
     },
     "execution_count": 13,
     "metadata": {},
     "output_type": "execute_result"
    },
    {
     "data": {
      "image/png": "[encoded data removed]",
      "text/plain": [
       "<Figure size 432x288 with 1 Axes>"
      ]
     },
     "metadata": {
      "needs_background": "light"
     },
     "output_type": "display_data"
    }
   ],
   "source": [
    "sns.boxplot(df['norating1'])"
   ]
  },
  {
   "cell_type": "code",
   "execution_count": 14,
   "id": "ee8a5009",
   "metadata": {},
   "outputs": [
    {
     "name": "stderr",
     "output_type": "stream",
     "text": [
      "C:\\Users\\hp\\anaconda3\\lib\\site-packages\\seaborn\\_decorators.py:36: FutureWarning: Pass the following variable as a keyword arg: x. From version 0.12, the only valid positional argument will be `data`, and passing other arguments without an explicit keyword will result in an error or misinterpretation.\n",
      "  warnings.warn(\n"
     ]
    },
    {
     "data": {
      "text/plain": [
       "<AxesSubplot:xlabel='star_5f'>"
      ]
     },
     "execution_count": 14,
     "metadata": {},
     "output_type": "execute_result"
    },
    {
     "data": {
      "image/png": "[encoded data removed]",
      "text/plain": [
       "<Figure size 432x288 with 1 Axes>"
      ]
     },
     "metadata": {
      "needs_background": "light"
     },
     "output_type": "display_data"
    }
   ],
   "source": [
    "sns.boxplot(df['star_5f'])"
   ]
  },
  {
   "cell_type": "code",
   "execution_count": 15,
   "id": "bf3bec37",
   "metadata": {},
   "outputs": [
    {
     "name": "stderr",
     "output_type": "stream",
     "text": [
      "C:\\Users\\hp\\anaconda3\\lib\\site-packages\\seaborn\\_decorators.py:36: FutureWarning: Pass the following variable as a keyword arg: x. From version 0.12, the only valid positional argument will be `data`, and passing other arguments without an explicit keyword will result in an error or misinterpretation.\n",
      "  warnings.warn(\n"
     ]
    },
    {
     "data": {
      "text/plain": [
       "<AxesSubplot:xlabel='star_4f'>"
      ]
     },
     "execution_count": 15,
     "metadata": {},
     "output_type": "execute_result"
    },
    {
     "data": {
      "image/png": "[encoded data removed]",
      "text/plain": [
       "<Figure size 432x288 with 1 Axes>"
      ]
     },
     "metadata": {
      "needs_background": "light"
     },
     "output_type": "display_data"
    }
   ],
   "source": [
    "sns.boxplot(df['star_4f'])"
   ]
  },
  {
   "cell_type": "code",
   "execution_count": 16,
   "id": "fa6116d1",
   "metadata": {},
   "outputs": [
    {
     "name": "stderr",
     "output_type": "stream",
     "text": [
      "C:\\Users\\hp\\anaconda3\\lib\\site-packages\\seaborn\\_decorators.py:36: FutureWarning: Pass the following variable as a keyword arg: x. From version 0.12, the only valid positional argument will be `data`, and passing other arguments without an explicit keyword will result in an error or misinterpretation.\n",
      "  warnings.warn(\n"
     ]
    },
    {
     "data": {
      "text/plain": [
       "<AxesSubplot:xlabel='star_3f'>"
      ]
     },
     "execution_count": 16,
     "metadata": {},
     "output_type": "execute_result"
    },
    {
     "data": {
      "image/png": "[encoded data removed]",
      "text/plain": [
       "<Figure size 432x288 with 1 Axes>"
      ]
     },
     "metadata": {
      "needs_background": "light"
     },
     "output_type": "display_data"
    }
   ],
   "source": [
    "sns.boxplot(df['star_3f'])"
   ]
  },
  {
   "cell_type": "code",
   "execution_count": 17,
   "id": "3eb6cbd4",
   "metadata": {},
   "outputs": [
    {
     "name": "stderr",
     "output_type": "stream",
     "text": [
      "C:\\Users\\hp\\anaconda3\\lib\\site-packages\\seaborn\\_decorators.py:36: FutureWarning: Pass the following variable as a keyword arg: x. From version 0.12, the only valid positional argument will be `data`, and passing other arguments without an explicit keyword will result in an error or misinterpretation.\n",
      "  warnings.warn(\n"
     ]
    },
    {
     "data": {
      "text/plain": [
       "<AxesSubplot:xlabel='star_2f'>"
      ]
     },
     "execution_count": 17,
     "metadata": {},
     "output_type": "execute_result"
    },
    {
     "data": {
      "image/png": "[encoded data removed]",
      "text/plain": [
       "<Figure size 432x288 with 1 Axes>"
      ]
     },
     "metadata": {
      "needs_background": "light"
     },
     "output_type": "display_data"
    }
   ],
   "source": [
    "sns.boxplot(df['star_2f'])"
   ]
  },
  {
   "cell_type": "code",
   "execution_count": 18,
   "id": "f71c85ff",
   "metadata": {},
   "outputs": [
    {
     "name": "stderr",
     "output_type": "stream",
     "text": [
      "C:\\Users\\hp\\anaconda3\\lib\\site-packages\\seaborn\\_decorators.py:36: FutureWarning: Pass the following variable as a keyword arg: x. From version 0.12, the only valid positional argument will be `data`, and passing other arguments without an explicit keyword will result in an error or misinterpretation.\n",
      "  warnings.warn(\n"
     ]
    },
    {
     "data": {
      "text/plain": [
       "<AxesSubplot:xlabel='star_1f'>"
      ]
     },
     "execution_count": 18,
     "metadata": {},
     "output_type": "execute_result"
    },
    {
     "data": {
      "image/png": "[encoded data removed]",
      "text/plain": [
       "<Figure size 432x288 with 1 Axes>"
      ]
     },
     "metadata": {
      "needs_background": "light"
     },
     "output_type": "display_data"
    }
   ],
   "source": [
    "sns.boxplot(df['star_1f'])"
   ]
  },
  {
   "cell_type": "code",
   "execution_count": 20,
   "id": "a6cd15d2",
   "metadata": {},
   "outputs": [],
   "source": [
    "x_new= x[(df.noreviews1<40000) & (df.norating1<250000) & (df.actprice1<10000) & \n",
    "        (df.star_5f<140000) & (df.star_4f<50000) & (df.star_3f<30000) & (df.star_2f<8000) & (df.star_1f<11000)]"
   ]
  },
  {
   "cell_type": "code",
   "execution_count": 21,
   "id": "2cc62c03",
   "metadata": {},
   "outputs": [],
   "source": [
    "#Missing Values"
   ]
  },
  {
   "cell_type": "code",
   "execution_count": 22,
   "id": "8b576b5f",
   "metadata": {},
   "outputs": [
    {
     "name": "stderr",
     "output_type": "stream",
     "text": [
      "C:\\Users\\hp\\AppData\\Local\\Temp\\ipykernel_288\\709067689.py:1: SettingWithCopyWarning: \n",
      "A value is trying to be set on a copy of a slice from a DataFrame.\n",
      "Try using .loc[row_indexer,col_indexer] = value instead\n",
      "\n",
      "See the caveats in the documentation: https://pandas.pydata.org/pandas-docs/stable/user_guide/indexing.html#returning-a-view-versus-a-copy\n",
      "  x_new['maincateg']=x_new['maincateg'].fillna('Women')\n",
      "C:\\Users\\hp\\AppData\\Local\\Temp\\ipykernel_288\\709067689.py:2: SettingWithCopyWarning: \n",
      "A value is trying to be set on a copy of a slice from a DataFrame.\n",
      "Try using .loc[row_indexer,col_indexer] = value instead\n",
      "\n",
      "See the caveats in the documentation: https://pandas.pydata.org/pandas-docs/stable/user_guide/indexing.html#returning-a-view-versus-a-copy\n",
      "  x_new['norating1']=x_new['norating1'].fillna(x_new['norating1'].mean())\n",
      "C:\\Users\\hp\\AppData\\Local\\Temp\\ipykernel_288\\709067689.py:3: SettingWithCopyWarning: \n",
      "A value is trying to be set on a copy of a slice from a DataFrame.\n",
      "Try using .loc[row_indexer,col_indexer] = value instead\n",
      "\n",
      "See the caveats in the documentation: https://pandas.pydata.org/pandas-docs/stable/user_guide/indexing.html#returning-a-view-versus-a-copy\n",
      "  x_new['noreviews1']=x_new['noreviews1'].fillna(x_new['noreviews1'].mean())\n",
      "C:\\Users\\hp\\AppData\\Local\\Temp\\ipykernel_288\\709067689.py:4: SettingWithCopyWarning: \n",
      "A value is trying to be set on a copy of a slice from a DataFrame.\n",
      "Try using .loc[row_indexer,col_indexer] = value instead\n",
      "\n",
      "See the caveats in the documentation: https://pandas.pydata.org/pandas-docs/stable/user_guide/indexing.html#returning-a-view-versus-a-copy\n",
      "  x_new['star_5f']=x_new['star_5f'].fillna(x_new['star_5f'].mean())\n",
      "C:\\Users\\hp\\AppData\\Local\\Temp\\ipykernel_288\\709067689.py:5: SettingWithCopyWarning: \n",
      "A value is trying to be set on a copy of a slice from a DataFrame.\n",
      "Try using .loc[row_indexer,col_indexer] = value instead\n",
      "\n",
      "See the caveats in the documentation: https://pandas.pydata.org/pandas-docs/stable/user_guide/indexing.html#returning-a-view-versus-a-copy\n",
      "  x_new['star_4f']=x_new['star_4f'].fillna(x_new['star_4f'].mean())\n",
      "C:\\Users\\hp\\AppData\\Local\\Temp\\ipykernel_288\\709067689.py:6: SettingWithCopyWarning: \n",
      "A value is trying to be set on a copy of a slice from a DataFrame.\n",
      "Try using .loc[row_indexer,col_indexer] = value instead\n",
      "\n",
      "See the caveats in the documentation: https://pandas.pydata.org/pandas-docs/stable/user_guide/indexing.html#returning-a-view-versus-a-copy\n",
      "  x_new['star_3f']=x_new['star_3f'].fillna(x_new['star_3f'].mean())\n"
     ]
    }
   ],
   "source": [
    "x_new['maincateg']=x_new['maincateg'].fillna('Women')\n",
    "x_new['norating1']=x_new['norating1'].fillna(x_new['norating1'].mean())\n",
    "x_new['noreviews1']=x_new['noreviews1'].fillna(x_new['noreviews1'].mean())\n",
    "x_new['star_5f']=x_new['star_5f'].fillna(x_new['star_5f'].mean())\n",
    "x_new['star_4f']=x_new['star_4f'].fillna(x_new['star_4f'].mean())\n",
    "x_new['star_3f']=x_new['star_3f'].fillna(x_new['star_3f'].mean())"
   ]
  },
  {
   "cell_type": "code",
   "execution_count": 23,
   "id": "aae27a3b",
   "metadata": {},
   "outputs": [
    {
     "data": {
      "text/plain": [
       "Rating        0\n",
       "maincateg     0\n",
       "platform      0\n",
       "price1        0\n",
       "actprice1     0\n",
       "Offer %       0\n",
       "norating1     0\n",
       "noreviews1    0\n",
       "star_5f       0\n",
       "star_4f       0\n",
       "star_3f       0\n",
       "star_2f       0\n",
       "star_1f       0\n",
       "fulfilled1    0\n",
       "dtype: int64"
      ]
     },
     "execution_count": 23,
     "metadata": {},
     "output_type": "execute_result"
    }
   ],
   "source": [
    "x_new.isna().sum()"
   ]
  },
  {
   "cell_type": "code",
   "execution_count": 24,
   "id": "b012b44d",
   "metadata": {},
   "outputs": [
    {
     "data": {
      "text/plain": [
       "(14925, 14)"
      ]
     },
     "execution_count": 24,
     "metadata": {},
     "output_type": "execute_result"
    }
   ],
   "source": [
    "x_new.shape"
   ]
  },
  {
   "cell_type": "code",
   "execution_count": 25,
   "id": "4112ef4b",
   "metadata": {},
   "outputs": [
    {
     "name": "stderr",
     "output_type": "stream",
     "text": [
      "C:\\Users\\hp\\AppData\\Local\\Temp\\ipykernel_288\\3272655189.py:3: SettingWithCopyWarning: \n",
      "A value is trying to be set on a copy of a slice from a DataFrame.\n",
      "Try using .loc[row_indexer,col_indexer] = value instead\n",
      "\n",
      "See the caveats in the documentation: https://pandas.pydata.org/pandas-docs/stable/user_guide/indexing.html#returning-a-view-versus-a-copy\n",
      "  x_new['maincateg']=le.fit_transform(x_new['maincateg'])\n",
      "C:\\Users\\hp\\AppData\\Local\\Temp\\ipykernel_288\\3272655189.py:4: SettingWithCopyWarning: \n",
      "A value is trying to be set on a copy of a slice from a DataFrame.\n",
      "Try using .loc[row_indexer,col_indexer] = value instead\n",
      "\n",
      "See the caveats in the documentation: https://pandas.pydata.org/pandas-docs/stable/user_guide/indexing.html#returning-a-view-versus-a-copy\n",
      "  x_new['platform']=le.fit_transform(x_new['platform'])\n"
     ]
    }
   ],
   "source": [
    "from sklearn.preprocessing import LabelEncoder\n",
    "le=LabelEncoder()\n",
    "x_new['maincateg']=le.fit_transform(x_new['maincateg'])\n",
    "x_new['platform']=le.fit_transform(x_new['platform'])"
   ]
  },
  {
   "cell_type": "code",
   "execution_count": 142,
   "id": "b22362ed",
   "metadata": {},
   "outputs": [],
   "source": [
    "#scaling & normalization"
   ]
  },
  {
   "cell_type": "code",
   "execution_count": 40,
   "id": "fbf08b4c",
   "metadata": {},
   "outputs": [],
   "source": [
    "from sklearn.preprocessing import StandardScaler"
   ]
  },
  {
   "cell_type": "code",
   "execution_count": 27,
   "id": "80a55a9d",
   "metadata": {},
   "outputs": [
    {
     "data": {
      "text/html": [
       "<div>\n",
       "<style scoped>\n",
       "    .dataframe tbody tr th:only-of-type {\n",
       "        vertical-align: middle;\n",
       "    }\n",
       "\n",
       "    .dataframe tbody tr th {\n",
       "        vertical-align: top;\n",
       "    }\n",
       "\n",
       "    .dataframe thead th {\n",
       "        text-align: right;\n",
       "    }\n",
       "</style>\n",
       "<table border=\"1\" class=\"dataframe\">\n",
       "  <thead>\n",
       "    <tr style=\"text-align: right;\">\n",
       "      <th></th>\n",
       "      <th>Rating</th>\n",
       "      <th>maincateg</th>\n",
       "      <th>platform</th>\n",
       "      <th>price1</th>\n",
       "      <th>actprice1</th>\n",
       "      <th>Offer %</th>\n",
       "      <th>norating1</th>\n",
       "      <th>noreviews1</th>\n",
       "      <th>star_5f</th>\n",
       "      <th>star_4f</th>\n",
       "      <th>star_3f</th>\n",
       "      <th>star_2f</th>\n",
       "      <th>star_1f</th>\n",
       "      <th>fulfilled1</th>\n",
       "    </tr>\n",
       "  </thead>\n",
       "  <tbody>\n",
       "    <tr>\n",
       "      <th>0</th>\n",
       "      <td>3.9</td>\n",
       "      <td>1</td>\n",
       "      <td>1</td>\n",
       "      <td>698</td>\n",
       "      <td>999</td>\n",
       "      <td>30.13%</td>\n",
       "      <td>38.0</td>\n",
       "      <td>7.0</td>\n",
       "      <td>17.0</td>\n",
       "      <td>9.0</td>\n",
       "      <td>6.0</td>\n",
       "      <td>3</td>\n",
       "      <td>3</td>\n",
       "      <td>0</td>\n",
       "    </tr>\n",
       "    <tr>\n",
       "      <th>1</th>\n",
       "      <td>3.8</td>\n",
       "      <td>0</td>\n",
       "      <td>1</td>\n",
       "      <td>999</td>\n",
       "      <td>1999</td>\n",
       "      <td>50.03%</td>\n",
       "      <td>531.0</td>\n",
       "      <td>69.0</td>\n",
       "      <td>264.0</td>\n",
       "      <td>92.0</td>\n",
       "      <td>73.0</td>\n",
       "      <td>29</td>\n",
       "      <td>73</td>\n",
       "      <td>1</td>\n",
       "    </tr>\n",
       "    <tr>\n",
       "      <th>2</th>\n",
       "      <td>4.4</td>\n",
       "      <td>1</td>\n",
       "      <td>1</td>\n",
       "      <td>2749</td>\n",
       "      <td>4999</td>\n",
       "      <td>45.01%</td>\n",
       "      <td>17.0</td>\n",
       "      <td>4.0</td>\n",
       "      <td>11.0</td>\n",
       "      <td>3.0</td>\n",
       "      <td>2.0</td>\n",
       "      <td>1</td>\n",
       "      <td>0</td>\n",
       "      <td>1</td>\n",
       "    </tr>\n",
       "    <tr>\n",
       "      <th>3</th>\n",
       "      <td>4.2</td>\n",
       "      <td>0</td>\n",
       "      <td>1</td>\n",
       "      <td>518</td>\n",
       "      <td>724</td>\n",
       "      <td>15.85%</td>\n",
       "      <td>46413.0</td>\n",
       "      <td>6229.0</td>\n",
       "      <td>1045.0</td>\n",
       "      <td>12416.0</td>\n",
       "      <td>5352.0</td>\n",
       "      <td>701</td>\n",
       "      <td>4595</td>\n",
       "      <td>1</td>\n",
       "    </tr>\n",
       "    <tr>\n",
       "      <th>4</th>\n",
       "      <td>3.9</td>\n",
       "      <td>0</td>\n",
       "      <td>1</td>\n",
       "      <td>1379</td>\n",
       "      <td>2299</td>\n",
       "      <td>40.02%</td>\n",
       "      <td>77.0</td>\n",
       "      <td>3.0</td>\n",
       "      <td>35.0</td>\n",
       "      <td>21.0</td>\n",
       "      <td>7.0</td>\n",
       "      <td>7</td>\n",
       "      <td>7</td>\n",
       "      <td>1</td>\n",
       "    </tr>\n",
       "  </tbody>\n",
       "</table>\n",
       "</div>"
      ],
      "text/plain": [
       "   Rating  maincateg  platform  price1  actprice1 Offer %  norating1  \\\n",
       "0     3.9          1         1     698        999  30.13%       38.0   \n",
       "1     3.8          0         1     999       1999  50.03%      531.0   \n",
       "2     4.4          1         1    2749       4999  45.01%       17.0   \n",
       "3     4.2          0         1     518        724  15.85%    46413.0   \n",
       "4     3.9          0         1    1379       2299  40.02%       77.0   \n",
       "\n",
       "   noreviews1  star_5f  star_4f  star_3f  star_2f  star_1f  fulfilled1  \n",
       "0         7.0     17.0      9.0      6.0        3        3           0  \n",
       "1        69.0    264.0     92.0     73.0       29       73           1  \n",
       "2         4.0     11.0      3.0      2.0        1        0           1  \n",
       "3      6229.0   1045.0  12416.0   5352.0      701     4595           1  \n",
       "4         3.0     35.0     21.0      7.0        7        7           1  "
      ]
     },
     "execution_count": 27,
     "metadata": {},
     "output_type": "execute_result"
    }
   ],
   "source": [
    "x_new.head()"
   ]
  },
  {
   "cell_type": "code",
   "execution_count": 29,
   "id": "3987c205",
   "metadata": {},
   "outputs": [
    {
     "name": "stderr",
     "output_type": "stream",
     "text": [
      "C:\\Users\\hp\\AppData\\Local\\Temp\\ipykernel_288\\94472797.py:1: SettingWithCopyWarning: \n",
      "A value is trying to be set on a copy of a slice from a DataFrame\n",
      "\n",
      "See the caveats in the documentation: https://pandas.pydata.org/pandas-docs/stable/user_guide/indexing.html#returning-a-view-versus-a-copy\n",
      "  x_new.drop(['Offer %','price1'], axis=1, inplace=True)\n"
     ]
    }
   ],
   "source": [
    "x_new.drop(['Offer %','price1'], axis=1, inplace=True)"
   ]
  },
  {
   "cell_type": "code",
   "execution_count": 48,
   "id": "1b44734f",
   "metadata": {},
   "outputs": [
    {
     "data": {
      "text/plain": [
       "(14925, 12)"
      ]
     },
     "execution_count": 48,
     "metadata": {},
     "output_type": "execute_result"
    }
   ],
   "source": [
    "x_new.shape"
   ]
  },
  {
   "cell_type": "code",
   "execution_count": 49,
   "id": "33bdcddf",
   "metadata": {},
   "outputs": [
    {
     "data": {
      "text/plain": [
       "array([[-0.38001605,  0.85301261,  0.14919877, ..., -0.32032572,\n",
       "        -0.32433464, -1.22337827],\n",
       "       [-0.71461221, -1.17231561,  0.14919877, ..., -0.26028141,\n",
       "        -0.23380593,  0.81740866],\n",
       "       [ 1.29296475,  0.85301261,  0.14919877, ..., -0.32494451,\n",
       "        -0.32821445,  0.81740866],\n",
       "       ...,\n",
       "       [-0.38001605,  0.85301261,  0.14919877, ..., -0.29030356,\n",
       "        -0.29200296,  0.81740866],\n",
       "       [-0.38001605, -1.17231561, -6.70246797, ..., -0.269519  ,\n",
       "        -0.26743088,  0.81740866],\n",
       "       [ 3.30054171, -1.17231561,  0.14919877, ..., -0.3272539 ,\n",
       "        -0.32821445,  0.81740866]])"
      ]
     },
     "execution_count": 49,
     "metadata": {},
     "output_type": "execute_result"
    }
   ],
   "source": [
    "ss= StandardScaler()\n",
    "ss.fit_transform(x_new)"
   ]
  },
  {
   "cell_type": "code",
   "execution_count": 32,
   "id": "4feaffd4",
   "metadata": {},
   "outputs": [],
   "source": [
    "#feature importance"
   ]
  },
  {
   "cell_type": "code",
   "execution_count": 34,
   "id": "1e53c34d",
   "metadata": {},
   "outputs": [],
   "source": [
    "y_new= y[(df.noreviews1<40000) & (df.norating1<250000) & (df.actprice1<10000) & \n",
    "        (df.star_5f<140000) & (df.star_4f<50000) & (df.star_3f<30000) & (df.star_2f<8000) & (df.star_1f<11000)]"
   ]
  },
  {
   "cell_type": "code",
   "execution_count": 46,
   "id": "d3f0e85e",
   "metadata": {},
   "outputs": [],
   "source": [
    "from sklearn.model_selection import RandomizedSearchCV\n",
    "# Number of trees in random forest\n",
    "n_estimators = [int(x) for x in np.linspace(start = 200, stop = 2000, num = 10)]\n",
    "# Number of features to consider at every split\n",
    "max_features = ['auto', 'sqrt']\n",
    "# Maximum number of levels in tree\n",
    "max_depth = [int(x) for x in np.linspace(10, 110, num = 11)]\n",
    "max_depth.append(None)\n",
    "# Minimum number of samples required to split a node\n",
    "min_samples_split = [2, 5, 10]\n",
    "# Minimum number of samples required at each leaf node\n",
    "min_samples_leaf = [1, 2, 4]\n",
    "# Method of selecting samples for training each tree\n",
    "bootstrap = [True, False]\n",
    "# Create the random grid\n",
    "random_grid = {'n_estimators': n_estimators,\n",
    "               'max_features': max_features,\n",
    "               'max_depth': max_depth,\n",
    "               'min_samples_split': min_samples_split,\n",
    "               'min_samples_leaf': min_samples_leaf,\n",
    "               'bootstrap': bootstrap}"
   ]
  },
  {
   "cell_type": "code",
   "execution_count": 47,
   "id": "21676a8f",
   "metadata": {},
   "outputs": [],
   "source": [
    "from sklearn.ensemble import RandomForestRegressor\n",
    "rf= RandomForestRegressor()\n",
    "rf = RandomizedSearchCV(estimator = rf, param_distributions = random_grid, n_iter = 100, cv = 3, verbose=2, random_state=42, n_jobs = -1)"
   ]
  },
  {
   "cell_type": "code",
   "execution_count": 50,
   "id": "893cd82d",
   "metadata": {},
   "outputs": [
    {
     "name": "stdout",
     "output_type": "stream",
     "text": [
      "Fitting 3 folds for each of 100 candidates, totalling 300 fits\n"
     ]
    },
    {
     "data": {
      "text/plain": [
       "RandomizedSearchCV(cv=3, estimator=RandomForestRegressor(), n_iter=100,\n",
       "                   n_jobs=-1,\n",
       "                   param_distributions={'bootstrap': [True, False],\n",
       "                                        'max_depth': [10, 20, 30, 40, 50, 60,\n",
       "                                                      70, 80, 90, 100, 110,\n",
       "                                                      None],\n",
       "                                        'max_features': ['auto', 'sqrt'],\n",
       "                                        'min_samples_leaf': [1, 2, 4],\n",
       "                                        'min_samples_split': [2, 5, 10],\n",
       "                                        'n_estimators': [200, 400, 600, 800,\n",
       "                                                         1000, 1200, 1400, 1600,\n",
       "                                                         1800, 2000]},\n",
       "                   random_state=42, verbose=2)"
      ]
     },
     "execution_count": 50,
     "metadata": {},
     "output_type": "execute_result"
    }
   ],
   "source": [
    "rf.fit(x_new,y_new)"
   ]
  },
  {
   "cell_type": "code",
   "execution_count": 51,
   "id": "214ae1df",
   "metadata": {},
   "outputs": [],
   "source": [
    "test= pd.read_csv('test.csv')\n",
    "test.drop(['id','title'], axis=1, inplace=True)\n",
    "test['maincateg']=test['maincateg'].fillna('Women')\n",
    "test['Rating']=test['Rating'].fillna(test['Rating'].mean())\n",
    "test['star_5f']=test['star_5f'].fillna(test['star_5f'].mean())\n",
    "test['star_4f']=test['star_4f'].fillna(test['star_4f'].mean())\n",
    "test['star_1f']=test['star_1f'].fillna(test['star_1f'].mean())\n",
    "test['maincateg']=le.fit_transform(test['maincateg'])\n",
    "test['platform']=le.fit_transform(test['platform'])"
   ]
  },
  {
   "cell_type": "code",
   "execution_count": 52,
   "id": "5c0308eb",
   "metadata": {},
   "outputs": [
    {
     "data": {
      "text/plain": [
       "array([[-0.71317614, -1.20197972,  0.14224438, ...,  2.95910362,\n",
       "         3.6455875 ,  0.80886258],\n",
       "       [-0.37532059,  0.83196079,  0.14224438, ...,  0.04560127,\n",
       "         0.04978268,  0.80886258],\n",
       "       [-0.37532059,  0.83196079,  0.14224438, ..., -0.19828179,\n",
       "        -0.22076351,  0.80886258],\n",
       "       ...,\n",
       "       [-0.71317614,  0.83196079,  0.14224438, ..., -0.09843705,\n",
       "        -0.11844786, -1.23630395],\n",
       "       [-0.37532059,  0.83196079,  0.14224438, ...,  0.28457394,\n",
       "         0.2583492 , -1.23630395],\n",
       "       [-0.37532059,  0.83196079, -7.03015483, ..., -0.25229616,\n",
       "        -0.1951846 ,  0.80886258]])"
      ]
     },
     "execution_count": 52,
     "metadata": {},
     "output_type": "execute_result"
    }
   ],
   "source": [
    "ss.fit_transform(test)"
   ]
  },
  {
   "cell_type": "code",
   "execution_count": 53,
   "id": "7bec629d",
   "metadata": {},
   "outputs": [
    {
     "data": {
      "text/plain": [
       "(5244, 12)"
      ]
     },
     "execution_count": 53,
     "metadata": {},
     "output_type": "execute_result"
    }
   ],
   "source": [
    "test.shape"
   ]
  },
  {
   "cell_type": "code",
   "execution_count": 54,
   "id": "bf00d719",
   "metadata": {},
   "outputs": [],
   "source": [
    "predicted=rf.predict(test)\n",
    "predicted.tofile('Finalsubmission_aftertune.csv',sep=',')"
   ]
  },
  {
   "cell_type": "code",
   "execution_count": null,
   "id": "585f5c31",
   "metadata": {},
   "outputs": [],
   "source": []
  }
 ],
 "metadata": {
  "kernelspec": {
   "display_name": "Python 3 (ipykernel)",
   "language": "python",
   "name": "python3"
  },
  "language_info": {
   "codemirror_mode": {
    "name": "ipython",
    "version": 3
   },
   "file_extension": ".py",
   "mimetype": "text/x-python",
   "name": "python",
   "nbconvert_exporter": "python",
   "pygments_lexer": "ipython3",
   "version": "3.9.12"
  }
 },
 "nbformat": 4,
 "nbformat_minor": 5
}
